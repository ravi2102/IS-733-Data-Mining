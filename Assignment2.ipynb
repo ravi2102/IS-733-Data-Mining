{
 "cells": [
  {
   "cell_type": "code",
   "execution_count": 3,
   "id": "673b55c8",
   "metadata": {},
   "outputs": [],
   "source": [
    "import pandas as pd\n",
    "import numpy as np\n",
    "import pandas_profiling as pp\n",
    "from pandas_profiling import ProfileReport"
   ]
  },
  {
   "cell_type": "code",
   "execution_count": 4,
   "id": "5d7c8abe",
   "metadata": {},
   "outputs": [],
   "source": [
    "# Read in red-wine.csv as a pandas dataframe\n",
    "df = pd.read_csv(r\"C:\\Users\\Ravi Sharma\\Downloads\\red_wine.csv\")\n",
    "df1 = pd.read_csv(r\"C:\\Users\\Ravi Sharma\\Downloads\\white_wine.csv\")\n"
   ]
  },
  {
   "cell_type": "code",
   "execution_count": 5,
   "id": "1e8995fd",
   "metadata": {},
   "outputs": [
    {
     "name": "stdout",
     "output_type": "stream",
     "text": [
      "(571, 4)\n"
     ]
    }
   ],
   "source": [
    "#number of rows and columns\n",
    "print(df.shape)"
   ]
  },
  {
   "cell_type": "code",
   "execution_count": 6,
   "id": "0583670f",
   "metadata": {},
   "outputs": [
    {
     "data": {
      "application/vnd.jupyter.widget-view+json": {
       "model_id": "3ff96dab6250412ab5cda95a6e06dcd8",
       "version_major": 2,
       "version_minor": 0
      },
      "text/plain": [
       "Summarize dataset:   0%|          | 0/5 [00:00<?, ?it/s]"
      ]
     },
     "metadata": {},
     "output_type": "display_data"
    },
    {
     "data": {
      "application/vnd.jupyter.widget-view+json": {
       "model_id": "c29093c5c11e489280a4431fbea6e734",
       "version_major": 2,
       "version_minor": 0
      },
      "text/plain": [
       "Generate report structure:   0%|          | 0/1 [00:00<?, ?it/s]"
      ]
     },
     "metadata": {},
     "output_type": "display_data"
    },
    {
     "data": {
      "application/vnd.jupyter.widget-view+json": {
       "model_id": "b1fb21a1b7f04bdb9b3a9b65894a973d",
       "version_major": 2,
       "version_minor": 0
      },
      "text/plain": [
       "Render HTML:   0%|          | 0/1 [00:00<?, ?it/s]"
      ]
     },
     "metadata": {},
     "output_type": "display_data"
    },
    {
     "data": {
      "application/vnd.jupyter.widget-view+json": {
       "model_id": "5da86327a5354ed893aa25df13bb29a3",
       "version_major": 2,
       "version_minor": 0
      },
      "text/plain": [
       "Export report to file:   0%|          | 0/1 [00:00<?, ?it/s]"
      ]
     },
     "metadata": {},
     "output_type": "display_data"
    }
   ],
   "source": [
    "#Create a profile report\n",
    "profile = ProfileReport(df)\n",
    "\n",
    "# Save the report as an HTML file\n",
    "profile.to_file(\"red-wine.html\")"
   ]
  },
  {
   "cell_type": "code",
   "execution_count": 7,
   "id": "881e75c9",
   "metadata": {},
   "outputs": [
    {
     "data": {
      "application/vnd.jupyter.widget-view+json": {
       "model_id": "201f093d74dd45dea72a532de99ed8ce",
       "version_major": 2,
       "version_minor": 0
      },
      "text/plain": [
       "Export report to file:   0%|          | 0/1 [00:00<?, ?it/s]"
      ]
     },
     "metadata": {},
     "output_type": "display_data"
    }
   ],
   "source": [
    "#convert to html\n",
    "profile.to_file(\"Profiling.html\")"
   ]
  },
  {
   "cell_type": "code",
   "execution_count": 8,
   "id": "56ba9c2e",
   "metadata": {},
   "outputs": [
    {
     "name": "stdout",
     "output_type": "stream",
     "text": [
      "Logestic Regression \n",
      "\n",
      "training accuracy : 0.7844611528822055 \n",
      "\n",
      "testing accuracy : 0.7906976744186046 \n",
      "\n",
      "AUC score :  0.8828938471940501\n"
     ]
    }
   ],
   "source": [
    "#Logistic Regression\n",
    "from sklearn.linear_model import LogisticRegression\n",
    "from sklearn.model_selection import train_test_split\n",
    "from sklearn import preprocessing, metrics\n",
    "\n",
    "x = df.iloc[:, :-1].values\n",
    "y = df.iloc[:, -1].values\n",
    "\n",
    "x_train, x_test, y_train, y_test = train_test_split(x, y, test_size=0.3, random_state=0)\n",
    "regr = LogisticRegression()\n",
    "regr.fit(x_train, y_train)\n",
    "\n",
    "y_pred_proba = regr.predict_proba(x_test)[::,1]\n",
    "auclr = metrics.roc_auc_score(y_test, y_pred_proba)\n",
    "\n",
    "print(\"Logestic Regression\", \"\\n\")\n",
    "print(\"training accuracy :\", regr.score(x_train, y_train), \"\\n\")\n",
    "print(\"testing accuracy :\", regr.score(x_test, y_test), \"\\n\")\n",
    "print(\"AUC score : \",  auclr)"
   ]
  },
  {
   "cell_type": "code",
   "execution_count": 9,
   "id": "87ee4a4e",
   "metadata": {},
   "outputs": [
    {
     "name": "stdout",
     "output_type": "stream",
     "text": [
      "[0.3  0.89 0.5  0.66 0.39 0.82 0.68 0.45 0.33 0.46 1.01 0.56 0.39 0.36\n",
      " 0.84 0.36 0.69 0.48 0.57 0.48 0.43 0.84 1.05 0.87 0.64 0.46 0.46 0.78\n",
      " 0.52 0.87 0.7  2.   0.46 0.49 0.57 0.45 0.7  0.71 0.81 0.36 0.64 0.62\n",
      " 0.77 0.76 0.92 0.66 0.38 0.44 0.58 0.38 0.6  0.64 0.3  0.44 0.39 0.56\n",
      " 1.08 0.46 0.88 0.69 0.38 0.3  0.38 0.59 0.77 0.85 0.58 0.77 0.48 0.52\n",
      " 0.66 0.49 0.73 0.5  0.44 0.35 0.68 0.47 0.33 0.64 0.34 0.63 0.32 0.62\n",
      " 0.62 0.52 0.46 0.82 0.28 0.48 0.54 0.49 0.4  0.38 0.34 0.49 0.32 0.43\n",
      " 0.84 0.92 0.55 0.7  0.74 0.84 0.47 0.46 0.72 0.7  0.65 0.62 0.65 0.38\n",
      " 0.5  0.69 0.46 0.64 0.68 0.55 0.55 0.48 0.86 0.43 0.79 0.73 1.13 0.57\n",
      " 0.78 0.73 0.49 0.32 0.44 0.66 0.41 0.65 1.02 0.34 0.59 0.52 0.67 0.55\n",
      " 0.82 0.83 0.47 0.32 0.56 0.31 0.48 0.69 0.6  0.54 0.72 0.48 0.39 0.54\n",
      " 0.37 1.08 0.34 0.77 0.6  0.57 0.85 0.74 0.49 0.86 0.75 0.59 0.47 0.71\n",
      " 0.55 0.37 0.59 0.33]\n"
     ]
    }
   ],
   "source": [
    "print((x_test)[::,1])"
   ]
  },
  {
   "cell_type": "code",
   "execution_count": 10,
   "id": "ce16a891",
   "metadata": {},
   "outputs": [
    {
     "name": "stdout",
     "output_type": "stream",
     "text": [
      "Accuracy 0.8608695652173913\n"
     ]
    }
   ],
   "source": [
    "#Naive_Bayes\n",
    "from sklearn.naive_bayes import GaussianNB\n",
    "x_train, x_test, y_train, y_test = train_test_split(x, y, test_size=0.2, random_state=0)\n",
    "model = GaussianNB()\n",
    "model.fit(x_train, y_train)\n",
    "a = model.score(x_test, y_test)\n",
    "print(\"Accuracy\", a)"
   ]
  },
  {
   "cell_type": "code",
   "execution_count": 11,
   "id": "872d88eb",
   "metadata": {},
   "outputs": [
    {
     "name": "stdout",
     "output_type": "stream",
     "text": [
      "AUC score :  0.9202678027997565\n"
     ]
    }
   ],
   "source": [
    "y_pred_proba = model.predict_proba(x_test)[::,1]\n",
    "auclr = metrics.roc_auc_score(y_test, y_pred_proba)\n",
    "print(\"AUC score : \",  auclr)"
   ]
  },
  {
   "cell_type": "code",
   "execution_count": 12,
   "id": "38e6f3db",
   "metadata": {},
   "outputs": [
    {
     "name": "stdout",
     "output_type": "stream",
     "text": [
      "Accuracy 0.8\n"
     ]
    }
   ],
   "source": [
    "#Decision_Tree\n",
    "from sklearn.tree import DecisionTreeClassifier\n",
    "model = DecisionTreeClassifier(random_state=0)\n",
    "model.fit(x_train, y_train)\n",
    "y_pred = model.predict(x_test)\n",
    "from sklearn.metrics import accuracy_score\n",
    "score = accuracy_score(y_pred, y_test)\n",
    "print(\"Accuracy\", score)"
   ]
  },
  {
   "cell_type": "code",
   "execution_count": 13,
   "id": "98e473f1",
   "metadata": {},
   "outputs": [
    {
     "name": "stdout",
     "output_type": "stream",
     "text": [
      "AUC score :  0.7967133292757153\n"
     ]
    }
   ],
   "source": [
    "y_pred_proba = model.predict_proba(x_test)[::,1]\n",
    "auclr = metrics.roc_auc_score(y_test, y_pred_proba)\n",
    "print(\"AUC score : \",  auclr)"
   ]
  },
  {
   "cell_type": "code",
   "execution_count": 14,
   "id": "78c322aa",
   "metadata": {},
   "outputs": [
    {
     "name": "stdout",
     "output_type": "stream",
     "text": [
      "Accuracy Score: 0.8260869565217391\n",
      "Area under the ROC curve : 0.898661\n"
     ]
    }
   ],
   "source": [
    "#Support Vector Machine\n",
    "from sklearn.svm import SVC\n",
    "from sklearn.metrics import roc_curve, auc\n",
    "\n",
    "x = df.iloc[:, :-1].values\n",
    "y = df.iloc[:, -1].values\n",
    "\n",
    "from sklearn.preprocessing import LabelEncoder\n",
    "labelencoder = LabelEncoder()\n",
    "\n",
    "y = labelencoder.fit_transform(y)\n",
    "x_train, x_test, y_train, y_test = train_test_split(x, y, test_size=0.2, random_state=0)\n",
    "\n",
    "\n",
    "# Run classifier\n",
    "classifier = SVC(kernel='linear', probability=True)\n",
    "probas_ = classifier.fit(x_train, y_train).predict_proba(x_test)\n",
    "\n",
    "rf_y_pred = classifier.predict(x_test)\n",
    "print('Accuracy Score:', accuracy_score(y_test, rf_y_pred))\n",
    "\n",
    "fpr, tpr, thresholds = roc_curve(y_test, probas_[:, 1])\n",
    "roc_auc = auc(fpr, tpr)\n",
    "print(\"Area under the ROC curve : %f\" % roc_auc)"
   ]
  },
  {
   "cell_type": "code",
   "execution_count": 21,
   "id": "c7a7cce8",
   "metadata": {},
   "outputs": [
    {
     "name": "stdout",
     "output_type": "stream",
     "text": [
      "Accuracy Score: 0.8347826086956521\n"
     ]
    }
   ],
   "source": [
    "#Random Forest\n",
    "import matplotlib\n",
    "matplotlib.use('TkAgg')\n",
    "from sklearn.ensemble import RandomForestClassifier\n",
    "from matplotlib import pyplot as plt\n",
    "from sklearn.metrics import RocCurveDisplay\n",
    "\n",
    "rf_model = RandomForestClassifier(max_depth=10, max_features=3, max_samples=0.4, n_estimators=50)\n",
    "rf_model.fit(x_train, y_train)\n",
    "\n",
    "rf_y_pred = rf_model.predict(x_test)\n",
    "print('Accuracy Score:', accuracy_score(y_test, rf_y_pred))\n",
    "\n",
    "ax = plt.gca()\n",
    "rfc_disp = RocCurveDisplay.from_estimator(rf_model, x_test, y_test, ax=ax, alpha=0.8)\n",
    "rfc_disp.plot\n",
    "plt.show()"
   ]
  },
  {
   "cell_type": "code",
   "execution_count": 17,
   "id": "dbcca34c",
   "metadata": {},
   "outputs": [
    {
     "data": {
      "text/plain": [
       "0.5288966725043783"
      ]
     },
     "execution_count": 17,
     "metadata": {},
     "output_type": "execute_result"
    }
   ],
   "source": [
    "#ZeroR and OneR Classifier\n",
    "import numpy as np\n",
    "from sklearn.dummy import DummyClassifier\n",
    "\n",
    "dummy_clf = DummyClassifier(strategy=\"most_frequent\")\n",
    "dummy_clf.fit(x, y)\n",
    "DummyClassifier(strategy='most_frequent')\n",
    "dummy_clf.predict(x)\n",
    "dummy_clf.score(x, y)"
   ]
  },
  {
   "cell_type": "code",
   "execution_count": 18,
   "id": "8c4a9115",
   "metadata": {},
   "outputs": [
    {
     "name": "stdout",
     "output_type": "stream",
     "text": [
      "Accuracy Score: 0.9166666666666666\n"
     ]
    }
   ],
   "source": [
    "#Random Forest on white wine\n",
    "import matplotlib\n",
    "matplotlib.use('TkAgg')\n",
    "from sklearn.ensemble import RandomForestClassifier\n",
    "from sklearn.model_selection import train_test_split\n",
    "from sklearn import preprocessing, metrics\n",
    "from sklearn.metrics import accuracy_score\n",
    "from matplotlib import pyplot as plt\n",
    "from sklearn.metrics import RocCurveDisplay\n",
    "\n",
    "x1 = df1.iloc[:, :-1].values\n",
    "y1 = df1.iloc[:, -1].values\n",
    "\n",
    "x1_train, x1_test, y1_train, y1_test = train_test_split(x1, y1, test_size=0.3, random_state=0)\n",
    "\n",
    "from sklearn.metrics import RocCurveDisplay\n",
    "\n",
    "rf_model = RandomForestClassifier(max_depth=10, max_features=3, max_samples=0.4, n_estimators=50)\n",
    "rf_model.fit(x1_train, y1_train)\n",
    "\n",
    "rf_y1_pred = rf_model.predict(x1_test)\n",
    "print('Accuracy Score:', accuracy_score(y1_test, rf_y1_pred))\n",
    "\n",
    "ax = plt.gca()\n",
    "rfc_disp = RocCurveDisplay.from_estimator(rf_model, x1_test, y1_test, ax=ax, alpha=0.8)\n",
    "rfc_disp.plot\n",
    "plt.show()"
   ]
  },
  {
   "cell_type": "code",
   "execution_count": 19,
   "id": "4cb8a0b6",
   "metadata": {},
   "outputs": [],
   "source": [
    "#Table of accuracy and AUC \n",
    "\n",
    "data = {'Accuracy(%)': [52.88,52.88,78.44,86.08,80.00, 82.61,80.860],\n",
    "       'AUC':['N/A','N/A',0.88,0.92,0.79,0.89,0.92]}\n",
    "df_table = pd.DataFrame(data,index=[\"ZeroR\",\"OneR\",\"LR\",\"NB\",\"DT\",\"SVM\",\"RF\"])"
   ]
  },
  {
   "cell_type": "code",
   "execution_count": 20,
   "id": "05cd4fd7",
   "metadata": {},
   "outputs": [
    {
     "data": {
      "text/html": [
       "<div>\n",
       "<style scoped>\n",
       "    .dataframe tbody tr th:only-of-type {\n",
       "        vertical-align: middle;\n",
       "    }\n",
       "\n",
       "    .dataframe tbody tr th {\n",
       "        vertical-align: top;\n",
       "    }\n",
       "\n",
       "    .dataframe thead th {\n",
       "        text-align: right;\n",
       "    }\n",
       "</style>\n",
       "<table border=\"1\" class=\"dataframe\">\n",
       "  <thead>\n",
       "    <tr style=\"text-align: right;\">\n",
       "      <th></th>\n",
       "      <th>Accuracy(%)</th>\n",
       "      <th>AUC</th>\n",
       "    </tr>\n",
       "  </thead>\n",
       "  <tbody>\n",
       "    <tr>\n",
       "      <th>ZeroR</th>\n",
       "      <td>52.88</td>\n",
       "      <td>N/A</td>\n",
       "    </tr>\n",
       "    <tr>\n",
       "      <th>OneR</th>\n",
       "      <td>52.88</td>\n",
       "      <td>N/A</td>\n",
       "    </tr>\n",
       "    <tr>\n",
       "      <th>LR</th>\n",
       "      <td>78.44</td>\n",
       "      <td>0.88</td>\n",
       "    </tr>\n",
       "    <tr>\n",
       "      <th>NB</th>\n",
       "      <td>86.08</td>\n",
       "      <td>0.92</td>\n",
       "    </tr>\n",
       "    <tr>\n",
       "      <th>DT</th>\n",
       "      <td>80.00</td>\n",
       "      <td>0.79</td>\n",
       "    </tr>\n",
       "    <tr>\n",
       "      <th>SVM</th>\n",
       "      <td>82.61</td>\n",
       "      <td>0.89</td>\n",
       "    </tr>\n",
       "    <tr>\n",
       "      <th>RF</th>\n",
       "      <td>80.86</td>\n",
       "      <td>0.92</td>\n",
       "    </tr>\n",
       "  </tbody>\n",
       "</table>\n",
       "</div>"
      ],
      "text/plain": [
       "       Accuracy(%)   AUC\n",
       "ZeroR        52.88   N/A\n",
       "OneR         52.88   N/A\n",
       "LR           78.44  0.88\n",
       "NB           86.08  0.92\n",
       "DT           80.00  0.79\n",
       "SVM          82.61  0.89\n",
       "RF           80.86  0.92"
      ]
     },
     "execution_count": 20,
     "metadata": {},
     "output_type": "execute_result"
    }
   ],
   "source": [
    "df_table"
   ]
  },
  {
   "cell_type": "code",
   "execution_count": null,
   "id": "e8c0133f",
   "metadata": {},
   "outputs": [],
   "source": []
  }
 ],
 "metadata": {
  "kernelspec": {
   "display_name": "Python 3 (ipykernel)",
   "language": "python",
   "name": "python3"
  },
  "language_info": {
   "codemirror_mode": {
    "name": "ipython",
    "version": 3
   },
   "file_extension": ".py",
   "mimetype": "text/x-python",
   "name": "python",
   "nbconvert_exporter": "python",
   "pygments_lexer": "ipython3",
   "version": "3.8.16"
  }
 },
 "nbformat": 4,
 "nbformat_minor": 5
}
